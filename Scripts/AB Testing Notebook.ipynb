{
 "cells": [
  {
   "cell_type": "code",
   "execution_count": 1,
   "metadata": {},
   "outputs": [],
   "source": [
    "import pandas as pd\n",
    "import numpy as np\n",
    "import matplotlib.pyplot as plt\n",
    "import seaborn as sns\n",
    "import scipy.stats as stats\n",
    "import os"
   ]
  },
  {
   "cell_type": "markdown",
   "metadata": {},
   "source": [
    "**Step 1: Load data**"
   ]
  },
  {
   "cell_type": "code",
   "execution_count": 2,
   "metadata": {},
   "outputs": [
    {
     "data": {
      "text/html": [
       "<div>\n",
       "<style scoped>\n",
       "    .dataframe tbody tr th:only-of-type {\n",
       "        vertical-align: middle;\n",
       "    }\n",
       "\n",
       "    .dataframe tbody tr th {\n",
       "        vertical-align: top;\n",
       "    }\n",
       "\n",
       "    .dataframe thead th {\n",
       "        text-align: right;\n",
       "    }\n",
       "</style>\n",
       "<table border=\"1\" class=\"dataframe\">\n",
       "  <thead>\n",
       "    <tr style=\"text-align: right;\">\n",
       "      <th></th>\n",
       "      <th>userid</th>\n",
       "      <th>version</th>\n",
       "      <th>sum_gamerounds</th>\n",
       "      <th>retention_1</th>\n",
       "      <th>retention_7</th>\n",
       "    </tr>\n",
       "  </thead>\n",
       "  <tbody>\n",
       "    <tr>\n",
       "      <th>0</th>\n",
       "      <td>116</td>\n",
       "      <td>gate_30</td>\n",
       "      <td>3</td>\n",
       "      <td>False</td>\n",
       "      <td>False</td>\n",
       "    </tr>\n",
       "    <tr>\n",
       "      <th>1</th>\n",
       "      <td>337</td>\n",
       "      <td>gate_30</td>\n",
       "      <td>38</td>\n",
       "      <td>True</td>\n",
       "      <td>False</td>\n",
       "    </tr>\n",
       "    <tr>\n",
       "      <th>2</th>\n",
       "      <td>377</td>\n",
       "      <td>gate_40</td>\n",
       "      <td>165</td>\n",
       "      <td>True</td>\n",
       "      <td>False</td>\n",
       "    </tr>\n",
       "    <tr>\n",
       "      <th>3</th>\n",
       "      <td>483</td>\n",
       "      <td>gate_40</td>\n",
       "      <td>1</td>\n",
       "      <td>False</td>\n",
       "      <td>False</td>\n",
       "    </tr>\n",
       "    <tr>\n",
       "      <th>4</th>\n",
       "      <td>488</td>\n",
       "      <td>gate_40</td>\n",
       "      <td>179</td>\n",
       "      <td>True</td>\n",
       "      <td>True</td>\n",
       "    </tr>\n",
       "    <tr>\n",
       "      <th>...</th>\n",
       "      <td>...</td>\n",
       "      <td>...</td>\n",
       "      <td>...</td>\n",
       "      <td>...</td>\n",
       "      <td>...</td>\n",
       "    </tr>\n",
       "    <tr>\n",
       "      <th>90184</th>\n",
       "      <td>9999441</td>\n",
       "      <td>gate_40</td>\n",
       "      <td>97</td>\n",
       "      <td>True</td>\n",
       "      <td>False</td>\n",
       "    </tr>\n",
       "    <tr>\n",
       "      <th>90185</th>\n",
       "      <td>9999479</td>\n",
       "      <td>gate_40</td>\n",
       "      <td>30</td>\n",
       "      <td>False</td>\n",
       "      <td>False</td>\n",
       "    </tr>\n",
       "    <tr>\n",
       "      <th>90186</th>\n",
       "      <td>9999710</td>\n",
       "      <td>gate_30</td>\n",
       "      <td>28</td>\n",
       "      <td>True</td>\n",
       "      <td>False</td>\n",
       "    </tr>\n",
       "    <tr>\n",
       "      <th>90187</th>\n",
       "      <td>9999768</td>\n",
       "      <td>gate_40</td>\n",
       "      <td>51</td>\n",
       "      <td>True</td>\n",
       "      <td>False</td>\n",
       "    </tr>\n",
       "    <tr>\n",
       "      <th>90188</th>\n",
       "      <td>9999861</td>\n",
       "      <td>gate_40</td>\n",
       "      <td>16</td>\n",
       "      <td>False</td>\n",
       "      <td>False</td>\n",
       "    </tr>\n",
       "  </tbody>\n",
       "</table>\n",
       "<p>90189 rows × 5 columns</p>\n",
       "</div>"
      ],
      "text/plain": [
       "        userid  version  sum_gamerounds  retention_1  retention_7\n",
       "0          116  gate_30               3        False        False\n",
       "1          337  gate_30              38         True        False\n",
       "2          377  gate_40             165         True        False\n",
       "3          483  gate_40               1        False        False\n",
       "4          488  gate_40             179         True         True\n",
       "...        ...      ...             ...          ...          ...\n",
       "90184  9999441  gate_40              97         True        False\n",
       "90185  9999479  gate_40              30        False        False\n",
       "90186  9999710  gate_30              28         True        False\n",
       "90187  9999768  gate_40              51         True        False\n",
       "90188  9999861  gate_40              16        False        False\n",
       "\n",
       "[90189 rows x 5 columns]"
      ]
     },
     "metadata": {},
     "output_type": "display_data"
    },
    {
     "data": {
      "text/plain": [
       "userid             int64\n",
       "version           object\n",
       "sum_gamerounds     int64\n",
       "retention_1         bool\n",
       "retention_7         bool\n",
       "dtype: object"
      ]
     },
     "execution_count": 2,
     "metadata": {},
     "output_type": "execute_result"
    }
   ],
   "source": [
    "cd = os.getcwd()\n",
    "file = os.path.join(cd[: -7], 'Data', 'cookie_cats.csv')\n",
    "df = pd.read_csv(file)\n",
    "display(df)\n",
    "df.dtypes"
   ]
  },
  {
   "cell_type": "markdown",
   "metadata": {},
   "source": [
    "**Step 2: Problem Understanding**\n",
    "> Does moving the first gate from Level 30 to Level 40 improve player retention?\n",
    "\n",
    "> Define metrics:\\\n",
    "Retention 1-day Rate = Players who returned Day 1 / Total players in group.\n",
    "Retention 7-day Rate = Players who returned Day 7 / Total players in group.\n",
    "\n",
    "> Define hypothesis:\\\n",
    "Null hypothesis: Moving the gate from Level 30 to Level 40 does not make an impact.\\\n",
    "\\\n",
    "Alternative hypothesis: Moving the gate to Level 40 does make an impact (two-tailed)."
   ]
  },
  {
   "cell_type": "markdown",
   "metadata": {},
   "source": [
    "**Step 3: Preprocessing and Exploratory Data Analysis**\n",
    "\n",
    "1. Check for missing values, duplicates, etc.\n",
    "2. Summary Statistics.\n",
    "3. Plot Distributions."
   ]
  },
  {
   "cell_type": "markdown",
   "metadata": {},
   "source": [
    "1. Check for missing values.\n",
    "> There are zero missing values or duplicate rows. This is great! I don't need fix data quality issues."
   ]
  },
  {
   "cell_type": "code",
   "execution_count": 3,
   "metadata": {},
   "outputs": [
    {
     "name": "stdout",
     "output_type": "stream",
     "text": [
      "<class 'pandas.core.frame.DataFrame'>\n",
      "RangeIndex: 90189 entries, 0 to 90188\n",
      "Data columns (total 5 columns):\n",
      " #   Column          Non-Null Count  Dtype \n",
      "---  ------          --------------  ----- \n",
      " 0   userid          90189 non-null  int64 \n",
      " 1   version         90189 non-null  object\n",
      " 2   sum_gamerounds  90189 non-null  int64 \n",
      " 3   retention_1     90189 non-null  bool  \n",
      " 4   retention_7     90189 non-null  bool  \n",
      "dtypes: bool(2), int64(2), object(1)\n",
      "memory usage: 2.2+ MB\n",
      "Number of duplicate rows: 0\n"
     ]
    }
   ],
   "source": [
    "df.info()\n",
    "\n",
    "duplicates= df.duplicated()\n",
    "print(f\"Number of duplicate rows: {duplicates.sum()}\")"
   ]
  },
  {
   "cell_type": "markdown",
   "metadata": {},
   "source": [
    "2. Summary Statistics.\n",
    "> We can see there is a fairly even split between users who saw the gate at Level 30 vs. Level 40. This is great!\\\n",
    "Additionally, the distribution of sum_gamerounds seems normal except for the max of 49,854 game rounds - which might be an outlier."
   ]
  },
  {
   "cell_type": "code",
   "execution_count": 4,
   "metadata": {},
   "outputs": [
    {
     "data": {
      "text/html": [
       "<div>\n",
       "<style scoped>\n",
       "    .dataframe tbody tr th:only-of-type {\n",
       "        vertical-align: middle;\n",
       "    }\n",
       "\n",
       "    .dataframe tbody tr th {\n",
       "        vertical-align: top;\n",
       "    }\n",
       "\n",
       "    .dataframe thead th {\n",
       "        text-align: right;\n",
       "    }\n",
       "</style>\n",
       "<table border=\"1\" class=\"dataframe\">\n",
       "  <thead>\n",
       "    <tr style=\"text-align: right;\">\n",
       "      <th></th>\n",
       "      <th>userid</th>\n",
       "      <th>sum_gamerounds</th>\n",
       "      <th>retention_1</th>\n",
       "      <th>retention_7</th>\n",
       "    </tr>\n",
       "    <tr>\n",
       "      <th>version</th>\n",
       "      <th></th>\n",
       "      <th></th>\n",
       "      <th></th>\n",
       "      <th></th>\n",
       "    </tr>\n",
       "  </thead>\n",
       "  <tbody>\n",
       "    <tr>\n",
       "      <th>gate_30</th>\n",
       "      <td>44700</td>\n",
       "      <td>44700</td>\n",
       "      <td>44700</td>\n",
       "      <td>44700</td>\n",
       "    </tr>\n",
       "    <tr>\n",
       "      <th>gate_40</th>\n",
       "      <td>45489</td>\n",
       "      <td>45489</td>\n",
       "      <td>45489</td>\n",
       "      <td>45489</td>\n",
       "    </tr>\n",
       "  </tbody>\n",
       "</table>\n",
       "</div>"
      ],
      "text/plain": [
       "         userid  sum_gamerounds  retention_1  retention_7\n",
       "version                                                  \n",
       "gate_30   44700           44700        44700        44700\n",
       "gate_40   45489           45489        45489        45489"
      ]
     },
     "metadata": {},
     "output_type": "display_data"
    },
    {
     "data": {
      "text/plain": [
       "count    90189.000000\n",
       "mean        51.872457\n",
       "std        195.050858\n",
       "min          0.000000\n",
       "25%          5.000000\n",
       "50%         16.000000\n",
       "75%         51.000000\n",
       "max      49854.000000\n",
       "Name: sum_gamerounds, dtype: float64"
      ]
     },
     "execution_count": 4,
     "metadata": {},
     "output_type": "execute_result"
    }
   ],
   "source": [
    "display(df.groupby('version').count())\n",
    "df['sum_gamerounds'].describe()"
   ]
  },
  {
   "cell_type": "markdown",
   "metadata": {},
   "source": [
    ">I want to see the difference in Retention_1 and Retention_7 by Level 30 and 40 gates. It looks like in general, the users who were gated in level 40 have lower retention in both 1 day and 7 days after installing the game."
   ]
  },
  {
   "cell_type": "code",
   "execution_count": 5,
   "metadata": {},
   "outputs": [
    {
     "data": {
      "image/png": "[encoded data removed]",
      "text/plain": [
       "<Figure size 640x480 with 1 Axes>"
      ]
     },
     "metadata": {},
     "output_type": "display_data"
    }
   ],
   "source": [
    "retention_rates = df.groupby('version')[['retention_1', 'retention_7']].mean().reset_index()\n",
    "retention_rates_melted = retention_rates.melt(id_vars='version', var_name='Retention Type', value_name='Rate')\n",
    "\n",
    "custom_palette = [\"#A7C7E7\", \"#CC5500\"]  # Pale blue, Burnt orange\n",
    "\n",
    "ax = sns.barplot(x='Retention Type', y='Rate', hue='version', data=retention_rates_melted, palette=custom_palette)\n",
    "\n",
    "for bar in ax.patches:\n",
    "    bar.set_alpha(0.6)\n",
    "\n",
    "plt.ylabel('Retention Rate')\n",
    "plt.title('Retention Rate by Group')\n",
    "plt.ylim(0, 1)\n",
    "plt.show()"
   ]
  },
  {
   "cell_type": "markdown",
   "metadata": {},
   "source": [
    "**Step 4: Hypothesis Testing**\n",
    ">The goal is to compare retention rates between both groups on retention_1 and retention_7.\\\n",
    "To create a distribution of the retention rate, I will use bootstrapping to repeatedly re-sample the dataset and calculate the retention rate."
   ]
  },
  {
   "cell_type": "markdown",
   "metadata": {},
   "source": [
    "Retention_1: Retention after 1 day slightly decreases when the gate is increased to level 40. Let's review this variable to establish confidence."
   ]
  },
  {
   "cell_type": "code",
   "execution_count": 6,
   "metadata": {},
   "outputs": [
    {
     "data": {
      "text/plain": [
       "version\n",
       "gate_30    0.448188\n",
       "gate_40    0.442283\n",
       "Name: retention_1, dtype: float64"
      ]
     },
     "execution_count": 6,
     "metadata": {},
     "output_type": "execute_result"
    }
   ],
   "source": [
    "df.groupby('version')['retention_1'].mean()"
   ]
  },
  {
   "cell_type": "code",
   "execution_count": 7,
   "metadata": {},
   "outputs": [],
   "source": [
    "def bootstrap_retention(df, column = 'retention_1', n_iterations = 1000): # function to calculate retention rate over \n",
    "    chi2_stats = []\n",
    "    boot_means = []\n",
    "    for i in range(n_iterations):\n",
    "        boot_sample = df.sample(frac = 1, replace = True)\n",
    "        boot_mean = boot_sample.groupby('version')[column].mean()\n",
    "        boot_means.append(boot_mean)\n",
    "    return pd.DataFrame(boot_means)"
   ]
  },
  {
   "cell_type": "code",
   "execution_count": 8,
   "metadata": {},
   "outputs": [
    {
     "data": {
      "image/png": "[encoded data removed]",
      "text/plain": [
       "<Figure size 640x480 with 1 Axes>"
      ]
     },
     "metadata": {},
     "output_type": "display_data"
    }
   ],
   "source": [
    "# Compare 1 day retention \n",
    "\n",
    "retention_1_df = bootstrap_retention(df, column = \"retention_1\", n_iterations = 1000)\n",
    "\n",
    "sns.kdeplot(retention_1_df[\"gate_30\"], label=\"Gate 30\", fill=True)\n",
    "sns.kdeplot(retention_1_df[\"gate_40\"], label=\"Gate 40\", fill=True)\n",
    "plt.xlabel(\"Retention Rate\")\n",
    "plt.ylabel(\"Density\")\n",
    "plt.legend()\n",
    "plt.title(\"Bootstrapped Retention Rate Distributions\")\n",
    "plt.show()"
   ]
  },
  {
   "cell_type": "markdown",
   "metadata": {},
   "source": [
    "Calculate Bootstrap Confidence Intervals:\n",
    "> We reject the Null hypothesis since the retention difference != 0 in either the lower or upper 2.5%."
   ]
  },
  {
   "cell_type": "code",
   "execution_count": 9,
   "metadata": {},
   "outputs": [
    {
     "name": "stdout",
     "output_type": "stream",
     "text": [
      "95% Confidence Interval: [-0.01263427  0.00061182]\n"
     ]
    }
   ],
   "source": [
    "retention_1_df['diff'] = retention_1_df['gate_40'] - retention_1_df['gate_30']\n",
    "\n",
    "conf_int = np.percentile(retention_1_df['diff'], [2.5, 97.5])\n",
    "\n",
    "print(f\"95% Confidence Interval: {conf_int}\")"
   ]
  },
  {
   "cell_type": "markdown",
   "metadata": {},
   "source": [
    "Permutation Test:\n",
    "> We also reject the Null hypothesis as our estimated p-value is not significant (~0.97)."
   ]
  },
  {
   "cell_type": "code",
   "execution_count": null,
   "metadata": {},
   "outputs": [
    {
     "name": "stdout",
     "output_type": "stream",
     "text": [
      "P-value: 0.97\n"
     ]
    }
   ],
   "source": [
    "obs_diff = df.groupby('version')['retention_1'].mean().diff().iloc[-1]\n",
    "\n",
    "perm_diffs = []\n",
    "for _ in range(1000):\n",
    "    shuffled = df.copy()\n",
    "    shuffled['version'] = np.random.permutation(df['version'])  # Shuffle labels\n",
    "    perm_diff = shuffled.groupby('version')['retention_1'].mean().diff().iloc[-1]\n",
    "    perm_diffs.append(perm_diff)\n",
    "\n",
    "p_value = np.mean(np.array(perm_diffs) >= obs_diff)\n",
    "print(f\"P-value: {p_value}\")"
   ]
  },
  {
   "cell_type": "markdown",
   "metadata": {},
   "source": [
    "Retention_7: Retention after 7 days slightly decreases when the gate is increased to level 40. Let's review this variable to establish confidence."
   ]
  },
  {
   "cell_type": "code",
   "execution_count": 16,
   "metadata": {},
   "outputs": [
    {
     "data": {
      "image/png": "[encoded data removed]",
      "text/plain": [
       "<Figure size 640x480 with 1 Axes>"
      ]
     },
     "metadata": {},
     "output_type": "display_data"
    }
   ],
   "source": [
    "# Compare 7 day retention \n",
    "\n",
    "retention_7_df = bootstrap_retention(df, column = \"retention_7\", n_iterations = 1000)\n",
    "\n",
    "sns.kdeplot(retention_7_df[\"gate_30\"], label=\"Gate 30\", fill=True)\n",
    "sns.kdeplot(retention_7_df[\"gate_40\"], label=\"Gate 40\", fill=True)\n",
    "plt.xlabel(\"Retention Rate\")\n",
    "plt.ylabel(\"Density\")\n",
    "plt.legend()\n",
    "plt.title(\"Bootstrapped Retention Rate Distributions\")\n",
    "plt.show()"
   ]
  },
  {
   "cell_type": "markdown",
   "metadata": {},
   "source": [
    "Calculate Bootstrap Confidence Intervals:\n",
    "> We reject the Null hypothesis since the retention difference != 0 in either the lower or upper 2.5%."
   ]
  },
  {
   "cell_type": "code",
   "execution_count": 17,
   "metadata": {},
   "outputs": [
    {
     "name": "stdout",
     "output_type": "stream",
     "text": [
      "95% Confidence Interval: [-0.01329887 -0.00317099]\n"
     ]
    }
   ],
   "source": [
    "retention_7_df['diff'] = retention_7_df['gate_40'] - retention_7_df['gate_30']\n",
    "\n",
    "conf_int = np.percentile(retention_7_df['diff'], [2.5, 97.5])\n",
    "\n",
    "print(f\"95% Confidence Interval: {conf_int}\")"
   ]
  },
  {
   "cell_type": "markdown",
   "metadata": {},
   "source": [
    "Permutation Test:\n",
    "> We also reject the Null hypothesis as our estimated p-value is not significant (~1.0)."
   ]
  },
  {
   "cell_type": "code",
   "execution_count": 19,
   "metadata": {},
   "outputs": [
    {
     "name": "stdout",
     "output_type": "stream",
     "text": [
      "P-value: 1.0\n"
     ]
    }
   ],
   "source": [
    "obs_diff = df.groupby('version')['retention_7'].mean().diff().iloc[-1]\n",
    "\n",
    "perm_diffs = []\n",
    "for _ in range(1000):\n",
    "    shuffled = df.copy()\n",
    "    shuffled['version'] = np.random.permutation(df['version'])  # Shuffle labels\n",
    "    perm_diff = shuffled.groupby('version')['retention_7'].mean().diff().iloc[-1]\n",
    "    perm_diffs.append(perm_diff)\n",
    "\n",
    "p_value = np.mean(np.array(perm_diffs) >= obs_diff)\n",
    "print(f\"P-value: {p_value}\")"
   ]
  },
  {
   "cell_type": "markdown",
   "metadata": {},
   "source": [
    "**Step 5: Conclusion**\n",
    "> We can see that changing the Gate from Level 30 to Level 40 does have a statistical impact on player retention 1 day and 7 days after signup.\\\n",
    "Add comparison so business can understand the impact. Gate 40 reduces retention in both cases."
   ]
  }
 ],
 "metadata": {
  "kernelspec": {
   "display_name": "venv",
   "language": "python",
   "name": "python3"
  },
  "language_info": {
   "codemirror_mode": {
    "name": "ipython",
    "version": 3
   },
   "file_extension": ".py",
   "mimetype": "text/x-python",
   "name": "python",
   "nbconvert_exporter": "python",
   "pygments_lexer": "ipython3",
   "version": "3.13.0"
  }
 },
 "nbformat": 4,
 "nbformat_minor": 2
}
